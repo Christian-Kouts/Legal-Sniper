{
 "cells": [
  {
   "cell_type": "code",
   "execution_count": 1,
   "metadata": {},
   "outputs": [],
   "source": [
    "import requests\n",
    "import re\n",
    "import xml.etree.ElementTree as ET\n",
    "import urllib.request"
   ]
  },
  {
   "cell_type": "code",
   "execution_count": null,
   "metadata": {},
   "outputs": [
    {
     "name": "stdout",
     "output_type": "stream",
     "text": [
      "None\n"
     ]
    }
   ],
   "source": [
    "url = \"https://laws-lois.justice.gc.ca/eng/XML/A-1.xml\"\n",
    "\n",
    "# Use urllib to open the URL\n",
    "with urllib.request.urlopen(url) as f:\n",
    "    tree = ET.parse(f)\n",
    "\n",
    "root = tree.getroot()\n",
    "body = root.find('Body')\n"
   ]
  },
  {
   "cell_type": "code",
   "execution_count": 8,
   "metadata": {},
   "outputs": [
    {
     "ename": "ParseError",
     "evalue": "unbound prefix: line 1, column 0 (<string>)",
     "output_type": "error",
     "traceback": [
      "Traceback \u001b[36m(most recent call last)\u001b[39m:\n",
      "  File \u001b[92m~\\AppData\\Roaming\\Python\\Python313\\site-packages\\IPython\\core\\interactiveshell.py:3546\u001b[39m in \u001b[95mrun_code\u001b[39m\n    exec(code_obj, self.user_global_ns, self.user_ns)\n",
      "  Cell \u001b[92mIn[8]\u001b[39m\u001b[92m, line 4\u001b[39m\n    tree = ET.fromstring(xml)\n",
      "\u001b[36m  \u001b[39m\u001b[36mFile \u001b[39m\u001b[32mc:\\Users\\chris\\AppData\\Local\\Programs\\Python\\Python313\\Lib\\xml\\etree\\ElementTree.py:1342\u001b[39m\u001b[36m in \u001b[39m\u001b[35mXML\u001b[39m\n\u001b[31m    \u001b[39m\u001b[31mparser.feed(text)\u001b[39m\n",
      "  \u001b[36mFile \u001b[39m\u001b[32m<string>\u001b[39m\n\u001b[31mParseError\u001b[39m\u001b[31m:\u001b[39m unbound prefix: line 1, column 0\n"
     ]
    }
   ],
   "source": [
    "xml = '''<Section lims:inforce-start-date=\"2019-06-21\" lims:enacted-date=\"2019-06-21\" lims:lastAmendedDate=\"2019-06-21\" lims:fid=\"1171903\" lims:id=\"1171903\"><MarginalNote lims:inforce-start-date=\"2019-06-21\" lims:enacted-date=\"2019-06-21\" lims:fid=\"1171904\" lims:id=\"1171904\">Definitions</MarginalNote><Label>81</Label><Text>The following definitions apply in sections <XRefInternal>82</XRefInternal> to <XRefInternal>90</XRefInternal>.</Text><Definition lims:inforce-start-date=\"2019-06-21\" lims:enacted-date=\"2019-06-21\" lims:fid=\"1171905\" lims:id=\"1171905\"><Text><DefinedTermEn>government entity</DefinedTermEn> means a government institution that is</Text><Paragraph lims:inforce-start-date=\"2019-06-21\" lims:enacted-date=\"2019-06-21\" lims:fid=\"1171906\" lims:id=\"1171906\"><Label>(a)</Label><Text>a department named in Schedule I to the <XRefExternal reference-type=\"act\" link=\"F-11\">Financial Administration Act</XRefExternal>,</Text></Paragraph><Paragraph lims:inforce-start-date=\"2019-06-21\" lims:enacted-date=\"2019-06-21\" lims:fid=\"1171907\" lims:id=\"1171907\"><Label>(b)</Label><Text>a division or branch of the federal public administration set out in column I of Schedule I.1 to that Act, or</Text></Paragraph><Paragraph lims:inforce-start-date=\"2019-06-21\" lims:enacted-date=\"2019-06-21\" lims:fid=\"1171908\" lims:id=\"1171908\"><Label>(c)</Label><Text>a corporation named in Schedule II to that Act. (<DefinedTermFr>entité fédérale</DefinedTermFr>)</Text></Paragraph></Definition><Definition lims:inforce-start-date=\"2019-06-21\" lims:enacted-date=\"2019-06-21\" lims:fid=\"1171909\" lims:id=\"1171909\"><Text><DefinedTermEn>quarter</DefinedTermEn> means a three-month period that begins on the first day of April, July, October or January. (<DefinedTermFr>trimestre</DefinedTermFr>)</Text></Definition><Definition lims:inforce-start-date=\"2019-06-21\" lims:enacted-date=\"2019-06-21\" lims:fid=\"1171910\" lims:id=\"1171910\"><Text><DefinedTermEn>senior officer or employee</DefinedTermEn> means, in respect of a government institution, any person who exercises the powers or performs the duties and functions of a deputy minister, an associate deputy minister, an assistant deputy minister, a deputy head, an assistant deputy head, a president, a vice-president, a chief executive officer or a member of a board of directors, and any person who holds a position of an equivalent rank. (<DefinedTermFr>dirigeant ou employé</DefinedTermFr>)</Text></Definition><HistoricalNote><HistoricalNoteSubItem lims:inforce-start-date=\"2019-06-21\" lims:enacted-date=\"2019-06-21\" lims:fid=\"1171912\" lims:id=\"1171912\" lims:enactId=\"1150279\">2019, c. 18, s. 37</HistoricalNoteSubItem></HistoricalNote></Section>'''\n",
    "\n",
    "\n",
    "tree = ET.fromstring(xml)\n",
    "for element in tree.findall('.//DefinedTermFr'):\n",
    "    print(element.text)\n"
   ]
  }
 ],
 "metadata": {
  "kernelspec": {
   "display_name": "Python 3",
   "language": "python",
   "name": "python3"
  },
  "language_info": {
   "codemirror_mode": {
    "name": "ipython",
    "version": 3
   },
   "file_extension": ".py",
   "mimetype": "text/x-python",
   "name": "python",
   "nbconvert_exporter": "python",
   "pygments_lexer": "ipython3",
   "version": "3.13.2"
  }
 },
 "nbformat": 4,
 "nbformat_minor": 2
}
